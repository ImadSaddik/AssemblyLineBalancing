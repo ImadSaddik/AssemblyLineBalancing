{
 "cells": [
  {
   "cell_type": "code",
   "execution_count": 1,
   "metadata": {},
   "outputs": [],
   "source": [
    "import pandas as pd"
   ]
  },
  {
   "cell_type": "code",
   "execution_count": 20,
   "metadata": {},
   "outputs": [],
   "source": [
    "tasks = pd.read_excel('./data/taskNamesAndTimes.xlsx')\n",
    "edges = pd.read_excel('./data/edgesNodes.xlsx')\n",
    "\n",
    "tasks = tasks.astype(str)\n",
    "edges = edges.astype(str)"
   ]
  },
  {
   "cell_type": "code",
   "execution_count": 24,
   "metadata": {},
   "outputs": [
    {
     "data": {
      "text/html": [
       "<div>\n",
       "<style scoped>\n",
       "    .dataframe tbody tr th:only-of-type {\n",
       "        vertical-align: middle;\n",
       "    }\n",
       "\n",
       "    .dataframe tbody tr th {\n",
       "        vertical-align: top;\n",
       "    }\n",
       "\n",
       "    .dataframe thead th {\n",
       "        text-align: right;\n",
       "    }\n",
       "</style>\n",
       "<table border=\"1\" class=\"dataframe\">\n",
       "  <thead>\n",
       "    <tr style=\"text-align: right;\">\n",
       "      <th></th>\n",
       "      <th>Task names</th>\n",
       "      <th>Task time</th>\n",
       "    </tr>\n",
       "  </thead>\n",
       "  <tbody>\n",
       "    <tr>\n",
       "      <th>1</th>\n",
       "      <td>Assembly frame none</td>\n",
       "      <td>20</td>\n",
       "    </tr>\n",
       "    <tr>\n",
       "      <th>2</th>\n",
       "      <td>Assemble cutter</td>\n",
       "      <td>20</td>\n",
       "    </tr>\n",
       "    <tr>\n",
       "      <th>3</th>\n",
       "      <td>Assemble motor and G.B.</td>\n",
       "      <td>45</td>\n",
       "    </tr>\n",
       "    <tr>\n",
       "      <th>4</th>\n",
       "      <td>Assemble crank</td>\n",
       "      <td>10</td>\n",
       "    </tr>\n",
       "    <tr>\n",
       "      <th>5</th>\n",
       "      <td>Assemble pickup</td>\n",
       "      <td>7</td>\n",
       "    </tr>\n",
       "    <tr>\n",
       "      <th>6</th>\n",
       "      <td>Assemble belt cover</td>\n",
       "      <td>5</td>\n",
       "    </tr>\n",
       "    <tr>\n",
       "      <th>7</th>\n",
       "      <td>Assemble tensioned and cup</td>\n",
       "      <td>8</td>\n",
       "    </tr>\n",
       "    <tr>\n",
       "      <th>8</th>\n",
       "      <td>Assemble bucket and disk with shaft</td>\n",
       "      <td>20</td>\n",
       "    </tr>\n",
       "    <tr>\n",
       "      <th>9</th>\n",
       "      <td>Assemble feed motor and belt</td>\n",
       "      <td>15</td>\n",
       "    </tr>\n",
       "    <tr>\n",
       "      <th>10</th>\n",
       "      <td>Assemble circuit</td>\n",
       "      <td>5</td>\n",
       "    </tr>\n",
       "    <tr>\n",
       "      <th>11</th>\n",
       "      <td>Assemble hopper</td>\n",
       "      <td>4</td>\n",
       "    </tr>\n",
       "    <tr>\n",
       "      <th>12</th>\n",
       "      <td>Assemble wires</td>\n",
       "      <td>45</td>\n",
       "    </tr>\n",
       "    <tr>\n",
       "      <th>13</th>\n",
       "      <td>Assemble outer cover</td>\n",
       "      <td>6</td>\n",
       "    </tr>\n",
       "  </tbody>\n",
       "</table>\n",
       "</div>"
      ],
      "text/plain": [
       "                             Task names Task time\n",
       "1                   Assembly frame none        20\n",
       "2                       Assemble cutter        20\n",
       "3               Assemble motor and G.B.        45\n",
       "4                        Assemble crank        10\n",
       "5                       Assemble pickup         7\n",
       "6                   Assemble belt cover         5\n",
       "7            Assemble tensioned and cup         8\n",
       "8   Assemble bucket and disk with shaft        20\n",
       "9          Assemble feed motor and belt        15\n",
       "10                     Assemble circuit         5\n",
       "11                      Assemble hopper         4\n",
       "12                       Assemble wires        45\n",
       "13                 Assemble outer cover         6"
      ]
     },
     "execution_count": 24,
     "metadata": {},
     "output_type": "execute_result"
    }
   ],
   "source": [
    "# change the index of the first row to start from 1 instead of 0\n",
    "tasks.index = tasks.index + 1\n",
    "tasks"
   ]
  },
  {
   "cell_type": "code",
   "execution_count": 21,
   "metadata": {},
   "outputs": [],
   "source": [
    "fromNodes = edges[edges.columns[0]].tolist()\n",
    "toNodes = edges[edges.columns[1]].tolist()"
   ]
  },
  {
   "cell_type": "code",
   "execution_count": 22,
   "metadata": {},
   "outputs": [
    {
     "data": {
      "text/plain": [
       "[['1', '2'],\n",
       " ['2', '3'],\n",
       " ['3', '4'],\n",
       " ['2', '5'],\n",
       " ['5', '6'],\n",
       " ['5', '7'],\n",
       " ['5', '8'],\n",
       " ['5', '9'],\n",
       " ['5', '10'],\n",
       " ['6', '11'],\n",
       " ['7', '11'],\n",
       " ['8', '11'],\n",
       " ['9', '11'],\n",
       " ['10', '11'],\n",
       " ['11', '12'],\n",
       " ['4', '12'],\n",
       " ['12', '13']]"
      ]
     },
     "execution_count": 22,
     "metadata": {},
     "output_type": "execute_result"
    }
   ],
   "source": [
    "[[fromNode, toNode] for fromNode, toNode in zip(fromNodes, toNodes)]"
   ]
  },
  {
   "cell_type": "code",
   "execution_count": 9,
   "metadata": {},
   "outputs": [],
   "source": [
    "taskNames = tasks[tasks.columns[0]]\n",
    "taskNames.tolist()"
   ]
  },
  {
   "cell_type": "code",
   "execution_count": 12,
   "metadata": {},
   "outputs": [
    {
     "data": {
      "text/plain": [
       "['Assembly frame none',\n",
       " 'Assemble cutter',\n",
       " 'Assemble motor and G.B.',\n",
       " 'Assemble crank',\n",
       " 'Assemble pickup',\n",
       " 'Assemble belt cover',\n",
       " 'Assemble tensioned and cup',\n",
       " 'Assemble bucket and disk with shaft',\n",
       " 'Assemble feed motor and belt',\n",
       " 'Assemble circuit',\n",
       " 'Assemble hopper',\n",
       " 'Assemble wires',\n",
       " 'Assemble outer cover']"
      ]
     },
     "execution_count": 12,
     "metadata": {},
     "output_type": "execute_result"
    }
   ],
   "source": [
    "taskNames.tolist()"
   ]
  }
 ],
 "metadata": {
  "kernelspec": {
   "display_name": "uqar",
   "language": "python",
   "name": "python3"
  },
  "language_info": {
   "codemirror_mode": {
    "name": "ipython",
    "version": 3
   },
   "file_extension": ".py",
   "mimetype": "text/x-python",
   "name": "python",
   "nbconvert_exporter": "python",
   "pygments_lexer": "ipython3",
   "version": "3.10.9"
  },
  "orig_nbformat": 4
 },
 "nbformat": 4,
 "nbformat_minor": 2
}
